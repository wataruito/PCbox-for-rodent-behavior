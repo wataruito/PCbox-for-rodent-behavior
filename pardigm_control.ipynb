{
 "cells": [
  {
   "cell_type": "markdown",
   "metadata": {},
   "source": [
    "# pardigm_control.ipynb\n",
    "2020/03/24 wi"
   ]
  },
  {
   "cell_type": "markdown",
   "metadata": {},
   "source": [
    "---\n",
    "### Step 1. Initialize PCBox"
   ]
  },
  {
   "cell_type": "code",
   "execution_count": null,
   "metadata": {},
   "outputs": [],
   "source": [
    "import serial, time\n",
    "import Sentech_camera_control as ca\n",
    "\n",
    "arduino = serial.Serial('COM3', 115200, timeout=.1)\n",
    "\n",
    "def commu_arduino(commandStr):\n",
    "    commandStr = commandStr + \"\\n\"\n",
    "    arduino.write(commandStr.encode()) # Need to encode bytes literal\n",
    "    time.sleep(0.1)\n",
    "\n",
    "    msg = arduino.read(arduino.inWaiting()) # read everything in the input buffer\n",
    "    if msg.decode(\"utf-8\") != \"\":\n",
    "        _msg = msg.decode(\"utf-8\")\n",
    "        print (_msg.replace(\"\\r\", \"\"))\n",
    "        # print (_msg[:-2]) # Need to decode to string\n",
    "        # print (_msg.replace(\"\\r\", \"\").encode())\n",
    "def volume_set(volume):\n",
    "    loop = int((202 - volume)/2)\n",
    "    \n",
    "    commu_arduino(\"v\") # Issue independent command to wait to enter volume adjust mode\n",
    "    for x in range(loop):\n",
    "        commu_arduino(\"-\")\n",
    "    commu_arduino(\"x\")\n",
    "\n",
    "\n",
    "# Opening welcome\n",
    "time.sleep(3) #give the connection a second to settle\n",
    "commu_arduino(\"\")\n",
    "commu_arduino(\"set_verbose -off\")"
   ]
  },
  {
   "cell_type": "code",
   "execution_count": null,
   "metadata": {},
   "outputs": [],
   "source": [
    "arduino.close()"
   ]
  },
  {
   "cell_type": "markdown",
   "metadata": {},
   "source": [
    "### Step 2. Set paradigm time table"
   ]
  },
  {
   "cell_type": "code",
   "execution_count": null,
   "metadata": {},
   "outputs": [],
   "source": [
    "# 4 pairing\n",
    "commu_arduino(\"set_paradigm -clear\")\n",
    "commu_arduino(\"set_paradigm -paradigm_name 4_pairing\")\n",
    "commu_arduino(\"set_paradigm -paradigm_duration 540.0\")\n",
    "commu_arduino(\"set_paradigm -tone -epoch 0 -start 120.0 -end 150.0\")\n",
    "commu_arduino(\"set_paradigm -tone -epoch 1 -start 210.0 -end 240.0\")\n",
    "commu_arduino(\"set_paradigm -tone -epoch 2 -start 360.0 -end 390.0\")\n",
    "commu_arduino(\"set_paradigm -tone -epoch 3 -start 480.0 -end 510.0\")\n",
    "commu_arduino(\"set_paradigm -shocker -epoch 0 -start 149.5 -end 150.0\")\n",
    "commu_arduino(\"set_paradigm -shocker -epoch 1 -start 239.5 -end 240.0\")\n",
    "commu_arduino(\"set_paradigm -shocker -epoch 2 -start 389.5 -end 390.0\")\n",
    "commu_arduino(\"set_paradigm -shocker -epoch 3 -start 509.5 -end 510.0\")\n",
    "commu_arduino(\"set_paradigm -list\")"
   ]
  },
  {
   "cell_type": "code",
   "execution_count": null,
   "metadata": {},
   "outputs": [],
   "source": [
    "# Test for Cue\n",
    "commu_arduino(\"set_paradigm -clear\")\n",
    "commu_arduino(\"set_paradigm -paradigm_name Test_for_Cue\")\n",
    "commu_arduino(\"set_paradigm -paradigm_duration 180.0\")\n",
    "commu_arduino(\"set_paradigm -tone -epoch 0 -start 60.0 -end 180.0\")\n",
    "commu_arduino(\"set_paradigm -list\")"
   ]
  },
  {
   "cell_type": "code",
   "execution_count": null,
   "metadata": {},
   "outputs": [],
   "source": [
    "# Short paradigm for debug\n",
    "commu_arduino(\"set_paradigm -clear\")\n",
    "commu_arduino(\"set_paradigm -paradigm_name Short_paradigm_for_debug\")\n",
    "commu_arduino(\"set_paradigm -paradigm_duration 15.0\")\n",
    "commu_arduino(\"set_paradigm -tone -epoch 0 -start 5.0 -end 8.0\")\n",
    "commu_arduino(\"set_paradigm -shocker -epoch 0 -start 7.5 -end 10.0\")\n",
    "commu_arduino(\"set_paradigm -list\")"
   ]
  },
  {
   "cell_type": "code",
   "execution_count": null,
   "metadata": {},
   "outputs": [],
   "source": [
    "# reset paradigm table\n",
    "commu_arduino(\"set_paradigm -clear\")\n",
    "commu_arduino(\"set_paradigm -list\")"
   ]
  },
  {
   "cell_type": "markdown",
   "metadata": {},
   "source": [
    "### Step 3. Adjust tone volume\n",
    "    set_tone -tone_volume 30 [range:0-50]\n",
    "    set_tone -UART"
   ]
  },
  {
   "cell_type": "code",
   "execution_count": null,
   "metadata": {},
   "outputs": [],
   "source": [
    "tone_volume = 50\n",
    "\n",
    "# Do not modify the followings\n",
    "commu_arduino(\"set_tone -tone_volume \" + str(tone_volume))"
   ]
  },
  {
   "cell_type": "markdown",
   "metadata": {},
   "source": [
    "### Step 4. Adjust camera frame rate (fps), exposure time (ms) and focus.\n",
    "    Defaults: 33 fps (frame interval: 30 ms), exposeure time: 20 ms"
   ]
  },
  {
   "cell_type": "markdown",
   "metadata": {},
   "source": [
    "#### Start camera\n",
    "    Set cameraNum"
   ]
  },
  {
   "cell_type": "code",
   "execution_count": null,
   "metadata": {},
   "outputs": [],
   "source": [
    "cameraNum = 3\n",
    "\n",
    "# Do not modify the following\n",
    "savePath = r''  # '' means not to save movie\n",
    "fps = 5         # fps = 5 is dummy\n",
    "commu_arduino(\"set_camera -cameras_number \" + str(cameraNum))\n",
    "commu_arduino(\"set_camera -start\")\n",
    "ca.live_movie(cameraNum, fps, savePath)"
   ]
  },
  {
   "cell_type": "markdown",
   "metadata": {},
   "source": [
    "#### Adjust fps and exposure time (ms)\n",
    "    Set fps and exposure"
   ]
  },
  {
   "cell_type": "code",
   "execution_count": null,
   "metadata": {},
   "outputs": [],
   "source": [
    "fps = 5\n",
    "exposure = 10\n",
    "\n",
    "# Do not modify the followings\n",
    "commu_arduino(\"set_camera -fps \" + str(fps) + \" -exposure \" + str(exposure))\n",
    "commu_arduino(\"set_camera -status\")"
   ]
  },
  {
   "cell_type": "markdown",
   "metadata": {},
   "source": [
    "#### Stop cameras\n",
    "    Preview windows will automatically close after 5 timeout."
   ]
  },
  {
   "cell_type": "code",
   "execution_count": null,
   "metadata": {},
   "outputs": [],
   "source": [
    "commu_arduino(\"set_camera -stop\")"
   ]
  },
  {
   "cell_type": "markdown",
   "metadata": {},
   "source": [
    "### Step 5. Start paradigm"
   ]
  },
  {
   "cell_type": "markdown",
   "metadata": {},
   "source": [
    "#### Output file which document the paradigm condition\n",
    "    Set output directory (savePath)\n",
    "    You need to create the output directory in advance."
   ]
  },
  {
   "cell_type": "code",
   "execution_count": null,
   "metadata": {},
   "outputs": [],
   "source": [
    "savePath = r'C:\\Users\\User\\Desktop\\project'\n",
    "\n",
    "# Do not modify the followings\n",
    "import datetime\n",
    "import os\n",
    "\n",
    "commu_arduino(\"\")\n",
    "commu_arduino(\"\")\n",
    "\n",
    "x = datetime.datetime.now()\n",
    "savePath += x.strftime(\"\\\\%Y%m%d-%H%M%S\")\n",
    "\n",
    "if not os.path.exists(savePath):\n",
    "    os.mkdir(savePath)\n",
    "\n",
    "prefixFileName = os.path.split(savePath)[1]\n",
    "outputFileName = os.path.join(savePath, prefixFileName + \"_\" + \"output.txt\")\n",
    "\n",
    "import sys\n",
    "\n",
    "orig_stdout = sys.stdout\n",
    "f = open(outputFileName, 'w')\n",
    "sys.stdout = f\n",
    "\n",
    "print(\"1. savePath:          \" + savePath)\n",
    "print(\"2. date:              \" + str(datetime.datetime.now()))\n",
    "print(\"3. tone volume:       \" + str(tone_volume))\n",
    "print(\"4. camera settings:   \")\n",
    "commu_arduino(\"set_camera -status\")\n",
    "print(\"5. paradigm table:    \")\n",
    "commu_arduino(\"set_paradigm -list\")\n",
    "\n",
    "sys.stdout = orig_stdout\n",
    "f.close()\n",
    "\n",
    "ca.live_movie(cameraNum, fps, savePath)\n",
    "commu_arduino(\"start paradigm\")\n",
    "\n",
    "while 1:\n",
    "    time.sleep(1) #give the connection a second to settle\n",
    "    commu_arduino(\"\")"
   ]
  },
  {
   "cell_type": "markdown",
   "metadata": {},
   "source": [
    "### Step 6. Disconnect PCBox"
   ]
  },
  {
   "cell_type": "code",
   "execution_count": null,
   "metadata": {},
   "outputs": [],
   "source": [
    "arduino.close()"
   ]
  }
 ],
 "metadata": {
  "kernelspec": {
   "display_name": "Python 3",
   "language": "python",
   "name": "python3"
  },
  "language_info": {
   "codemirror_mode": {
    "name": "ipython",
    "version": 3
   },
   "file_extension": ".py",
   "mimetype": "text/x-python",
   "name": "python",
   "nbconvert_exporter": "python",
   "pygments_lexer": "ipython3",
   "version": "3.7.6"
  }
 },
 "nbformat": 4,
 "nbformat_minor": 4
}
