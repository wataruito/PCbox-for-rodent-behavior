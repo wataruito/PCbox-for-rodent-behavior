{
 "cells": [
  {
   "cell_type": "markdown",
   "metadata": {},
   "source": [
    "# pardigm_control.ipynb\n",
    "2020/03/24 wi"
   ]
  },
  {
   "cell_type": "markdown",
   "metadata": {},
   "source": [
    "---\n",
    "### Step 1. Initialize PCBox"
   ]
  },
  {
   "cell_type": "code",
   "execution_count": 1,
   "metadata": {},
   "outputs": [
    {
     "name": "stdout",
     "output_type": "stream",
     "text": [
      "DLL loaded!\n",
      "Welcome to PCBox: Paradigm Controling Box\n",
      "> \n",
      "\n",
      "> set_verbose -off\n",
      "Verbose mode OFF\n",
      "\n"
     ]
    }
   ],
   "source": [
    "import serial, time\n",
    "import Sentech_camera_control as ca\n",
    "\n",
    "arduino = serial.Serial('COM3', 115200, timeout=.1)\n",
    "\n",
    "def commu_arduino(commandStr):\n",
    "    commandStr = commandStr + \"\\n\"\n",
    "    arduino.write(commandStr.encode()) # Need to encode bytes literal\n",
    "    time.sleep(0.1)\n",
    "\n",
    "    msg = arduino.read(arduino.inWaiting()) # read everything in the input buffer\n",
    "    if msg.decode(\"utf-8\") != \"\":\n",
    "        _msg = msg.decode(\"utf-8\")\n",
    "        print (_msg.replace(\"\\r\", \"\"))\n",
    "        # print (_msg[:-2]) # Need to decode to string\n",
    "        # print (_msg.replace(\"\\r\", \"\").encode())\n",
    "def volume_set(volume):\n",
    "    loop = int((202 - volume)/2)\n",
    "    \n",
    "    commu_arduino(\"v\") # Issue independent command to wait to enter volume adjust mode\n",
    "    for x in range(loop):\n",
    "        commu_arduino(\"-\")\n",
    "    commu_arduino(\"x\")\n",
    "\n",
    "\n",
    "# Opening welcome\n",
    "time.sleep(3) #give the connection a second to settle\n",
    "commu_arduino(\"\")\n",
    "commu_arduino(\"set_verbose -off\")"
   ]
  },
  {
   "cell_type": "code",
   "execution_count": 44,
   "metadata": {},
   "outputs": [],
   "source": [
    "arduino.close()"
   ]
  },
  {
   "cell_type": "markdown",
   "metadata": {},
   "source": [
    "### Step 2. Set paradigm time table"
   ]
  },
  {
   "cell_type": "code",
   "execution_count": null,
   "metadata": {},
   "outputs": [],
   "source": [
    "# 4 pairing\n",
    "commu_arduino(\"set_paradigm -clear\")\n",
    "commu_arduino(\"set_paradigm -paradigm_name 4_pairing\")\n",
    "commu_arduino(\"set_paradigm -paradigm_duration 540.0\")\n",
    "commu_arduino(\"set_paradigm -tone -epoch 0 -start 120.0 -end 150.0\")\n",
    "commu_arduino(\"set_paradigm -tone -epoch 1 -start 210.0 -end 240.0\")\n",
    "commu_arduino(\"set_paradigm -tone -epoch 2 -start 360.0 -end 390.0\")\n",
    "commu_arduino(\"set_paradigm -tone -epoch 3 -start 480.0 -end 510.0\")\n",
    "commu_arduino(\"set_paradigm -shocker -epoch 0 -start 149.5 -end 150.0\")\n",
    "commu_arduino(\"set_paradigm -shocker -epoch 1 -start 239.5 -end 240.0\")\n",
    "commu_arduino(\"set_paradigm -shocker -epoch 2 -start 389.5 -end 390.0\")\n",
    "commu_arduino(\"set_paradigm -shocker -epoch 3 -start 509.5 -end 510.0\")\n",
    "commu_arduino(\"set_paradigm -list\")"
   ]
  },
  {
   "cell_type": "code",
   "execution_count": null,
   "metadata": {},
   "outputs": [],
   "source": [
    "# Test for Cue\n",
    "commu_arduino(\"set_paradigm -clear\")\n",
    "commu_arduino(\"set_paradigm -paradigm_name Test_for_Cue\")\n",
    "commu_arduino(\"set_paradigm -paradigm_duration 180.0\")\n",
    "commu_arduino(\"set_paradigm -tone -epoch 0 -start 60.0 -end 180.0\")\n",
    "commu_arduino(\"set_paradigm -list\")"
   ]
  },
  {
   "cell_type": "code",
   "execution_count": 2,
   "metadata": {},
   "outputs": [
    {
     "name": "stdout",
     "output_type": "stream",
     "text": [
      "paradigm name: Short_paradigm_for_debug\n",
      "paradigm duration: 15.00 sec\n",
      "tone epoch 0 tone_start: 5.00 sec, tone_end: 8.00 sec\n",
      "tone epoch 1 tone_start: -0.00 sec, tone_end: -0.00 sec\n",
      "tone epoch 2 tone_start: -0.00 sec, tone_end: -0.00 sec\n",
      "tone epoch 3 tone_start: -0.00 sec, tone_end: -0.00 sec\n",
      "tone epoch 4 tone_start: -0.00 sec, tone_end: -0.00 sec\n",
      "shocker epoch 0 shocker_start: 7.50 sec, shocker_end: 8.00 sec\n",
      "shocker epoch 1 shocker_start: -0.00 sec, shocker_end: -0.00 sec\n",
      "shocker epoch 2 shocker_start: -0.00 sec, shocker_end: -0.00 sec\n",
      "shocker epoch 3 shocker_start: -0.00 sec, shocker_end: -0.00 sec\n",
      "shocker epoch 4 shocker_start: -0.00 sec, shocker_end: -0.00 sec\n",
      "\n"
     ]
    }
   ],
   "source": [
    "# Short paradigm for debug\n",
    "commu_arduino(\"set_paradigm -clear\")\n",
    "commu_arduino(\"set_paradigm -paradigm_name Short_paradigm_for_debug\")\n",
    "commu_arduino(\"set_paradigm -paradigm_duration 15.0\")\n",
    "commu_arduino(\"set_paradigm -tone -epoch 0 -start 5.0 -end 8.0\")\n",
    "commu_arduino(\"set_paradigm -shocker -epoch 0 -start 7.5 -end 10.0\")\n",
    "commu_arduino(\"set_paradigm -list\")"
   ]
  },
  {
   "cell_type": "code",
   "execution_count": null,
   "metadata": {},
   "outputs": [],
   "source": [
    "# reset paradigm table\n",
    "commu_arduino(\"set_paradigm -clear\")\n",
    "commu_arduino(\"set_paradigm -list\")"
   ]
  },
  {
   "cell_type": "markdown",
   "metadata": {},
   "source": [
    "### Step 3. Adjust tone volume\n",
    "    set_tone -tone_volume 30 [range:0-50]\n",
    "    set_tone -UART"
   ]
  },
  {
   "cell_type": "code",
   "execution_count": 3,
   "metadata": {},
   "outputs": [],
   "source": [
    "tone_volume = 50\n",
    "\n",
    "# Do not modify the followings\n",
    "commu_arduino(\"set_tone -tone_volume \" + str(tone_volume))"
   ]
  },
  {
   "cell_type": "markdown",
   "metadata": {},
   "source": [
    "### Step 4. Adjust camera frame rate (fps), exposure time (ms) and focus.\n",
    "    Defaults: 33 fps (frame interval: 30 ms), exposeure time: 20 ms"
   ]
  },
  {
   "cell_type": "markdown",
   "metadata": {},
   "source": [
    "#### Start camera\n",
    "    Set cameraNum"
   ]
  },
  {
   "cell_type": "code",
   "execution_count": 4,
   "metadata": {},
   "outputs": [
    {
     "name": "stdout",
     "output_type": "stream",
     "text": [
      "Starting camera_1Starting camera_2\n",
      "Camera image shape: 640x480\n",
      "\n",
      "Camera image shape: 640x480\n",
      "Starting camera_3\n",
      "Camera image shape: 640x480\n",
      "Dropped a frame 15541208Dropped a frame 51829Dropped a frame 50318\n",
      "\n",
      "\n"
     ]
    }
   ],
   "source": [
    "cameraNum = 3\n",
    "\n",
    "# Do not modify the following\n",
    "savePath = r''  # '' means not to save movie\n",
    "fps = 5         # fps = 5 is dummy\n",
    "commu_arduino(\"set_camera -cameras_number \" + str(cameraNum))\n",
    "commu_arduino(\"set_camera -start\")\n",
    "ca.live_movie(cameraNum, fps, savePath)"
   ]
  },
  {
   "cell_type": "markdown",
   "metadata": {},
   "source": [
    "#### Adjust fps and exposure time (ms)\n",
    "    Set fps and exposure"
   ]
  },
  {
   "cell_type": "code",
   "execution_count": 22,
   "metadata": {},
   "outputs": [
    {
     "name": "stdout",
     "output_type": "stream",
     "text": [
      "_fps: 5, cameraExpInterval: 200000\n",
      "_exposure: 10, cameraExposure: 10000\n",
      "Camera status: 1, number: 3, fps: 5, exposure: 10 ms\n"
     ]
    }
   ],
   "source": [
    "fps = 5\n",
    "exposure = 10\n",
    "\n",
    "# Do not modify the followings\n",
    "commu_arduino(\"set_camera -fps \" + str(fps) + \" -exposure \" + str(exposure))\n",
    "commu_arduino(\"set_camera -status\")"
   ]
  },
  {
   "cell_type": "markdown",
   "metadata": {},
   "source": [
    "#### Stop cameras\n",
    "    Preview windows will automatically close after 5 timeout."
   ]
  },
  {
   "cell_type": "code",
   "execution_count": 5,
   "metadata": {},
   "outputs": [
    {
     "name": "stdout",
     "output_type": "stream",
     "text": [
      "Failed to transfer image from camera.Failed to transfer image from camera.Failed to transfer image from camera.   Failed to transfer image from camera.Failed to transfer image from camera.Failed to transfer image from camera.   Failed to transfer image from camera.Failed to transfer image from camera.Failed to transfer image from camera.   "
     ]
    }
   ],
   "source": [
    "commu_arduino(\"set_camera -stop\")"
   ]
  },
  {
   "cell_type": "markdown",
   "metadata": {},
   "source": [
    "### Step 5. Start paradigm"
   ]
  },
  {
   "cell_type": "markdown",
   "metadata": {},
   "source": [
    "#### Output file which document the paradigm condition\n",
    "    Set output directory (savePath)\n",
    "    You need to create the output directory in advance."
   ]
  },
  {
   "cell_type": "code",
   "execution_count": 10,
   "metadata": {},
   "outputs": [
    {
     "name": "stdout",
     "output_type": "stream",
     "text": [
      "Started !\n",
      "To abort, press RED button.\n",
      "Protocol completed !\n",
      "\n",
      "Starting camera_1Starting camera_2\n",
      "Camera image shape: 640x480\n",
      "\n",
      "Camera image shape: 640x480\n",
      "Starting camera_3\n",
      "Camera image shape: 640x480\n",
      "Starting paradigm ...\n",
      "... Press Blue Button to start the protocol ...\n",
      "\n",
      "Failed to transfer image from camera. Failed to transfer image from camera. Failed to transfer image from camera. Failed to transfer image from camera. Failed to transfer image from camera. Failed to transfer image from camera. Failed to transfer image from camera. Failed to transfer image from camera. Failed to transfer image from camera. Failed to transfer image from camera. Failed to transfer image from camera. Failed to transfer image from camera. Failed to transfer image from camera. Failed to transfer image from camera. Failed to transfer image from camera. Failed to transfer image from camera. Failed to transfer image from camera. Failed to transfer image from camera. Dropped a frame 53440Dropped a frame 15542819\n",
      "\n",
      "Dropped a frame 51929\n",
      "Started !\n",
      "To abort, press RED button.\n",
      "\n",
      "Failed to transfer image from camera.Failed to transfer image from camera.  Failed to transfer image from camera. Aborted\n",
      "\n",
      "Failed to transfer image from camera.Failed to transfer image from camera.  Failed to transfer image from camera. Failed to transfer image from camera.Failed to transfer image from camera.  Failed to transfer image from camera. "
     ]
    },
    {
     "ename": "KeyboardInterrupt",
     "evalue": "",
     "output_type": "error",
     "traceback": [
      "\u001b[1;31m---------------------------------------------------------------------------\u001b[0m",
      "\u001b[1;31mKeyboardInterrupt\u001b[0m                         Traceback (most recent call last)",
      "\u001b[1;32m<ipython-input-10-0b900ee69e1e>\u001b[0m in \u001b[0;36m<module>\u001b[1;34m\u001b[0m\n\u001b[0;32m     38\u001b[0m \u001b[1;33m\u001b[0m\u001b[0m\n\u001b[0;32m     39\u001b[0m \u001b[1;32mwhile\u001b[0m \u001b[1;36m1\u001b[0m\u001b[1;33m:\u001b[0m\u001b[1;33m\u001b[0m\u001b[1;33m\u001b[0m\u001b[0m\n\u001b[1;32m---> 40\u001b[1;33m     \u001b[0mtime\u001b[0m\u001b[1;33m.\u001b[0m\u001b[0msleep\u001b[0m\u001b[1;33m(\u001b[0m\u001b[1;36m1\u001b[0m\u001b[1;33m)\u001b[0m \u001b[1;31m#give the connection a second to settle\u001b[0m\u001b[1;33m\u001b[0m\u001b[1;33m\u001b[0m\u001b[0m\n\u001b[0m\u001b[0;32m     41\u001b[0m     \u001b[0mcommu_arduino\u001b[0m\u001b[1;33m(\u001b[0m\u001b[1;34m\"\"\u001b[0m\u001b[1;33m)\u001b[0m\u001b[1;33m\u001b[0m\u001b[1;33m\u001b[0m\u001b[0m\n",
      "\u001b[1;31mKeyboardInterrupt\u001b[0m: "
     ]
    }
   ],
   "source": [
    "savePath = r'C:\\Users\\User\\Desktop\\project'\n",
    "\n",
    "# Do not modify the followings\n",
    "import datetime\n",
    "import os\n",
    "\n",
    "commu_arduino(\"\")\n",
    "commu_arduino(\"\")\n",
    "\n",
    "x = datetime.datetime.now()\n",
    "savePath += x.strftime(\"\\\\%Y%m%d-%H%M%S\")\n",
    "\n",
    "if not os.path.exists(savePath):\n",
    "    os.mkdir(savePath)\n",
    "\n",
    "prefixFileName = os.path.split(savePath)[1]\n",
    "outputFileName = os.path.join(savePath, prefixFileName + \"_\" + \"output.txt\")\n",
    "\n",
    "import sys\n",
    "\n",
    "orig_stdout = sys.stdout\n",
    "f = open(outputFileName, 'w')\n",
    "sys.stdout = f\n",
    "\n",
    "print(\"1. savePath:          \" + savePath)\n",
    "print(\"2. date:              \" + str(datetime.datetime.now()))\n",
    "print(\"3. tone volume:       \" + str(tone_volume))\n",
    "print(\"4. camera settings:   \")\n",
    "commu_arduino(\"set_camera -status\")\n",
    "print(\"5. paradigm table:    \")\n",
    "commu_arduino(\"set_paradigm -list\")\n",
    "\n",
    "sys.stdout = orig_stdout\n",
    "f.close()\n",
    "\n",
    "ca.live_movie(cameraNum, fps, savePath)\n",
    "commu_arduino(\"start paradigm\")\n",
    "\n",
    "while 1:\n",
    "    time.sleep(1) #give the connection a second to settle\n",
    "    commu_arduino(\"\")"
   ]
  },
  {
   "cell_type": "markdown",
   "metadata": {},
   "source": [
    "### Step 6. Disconnect PCBox"
   ]
  },
  {
   "cell_type": "code",
   "execution_count": 52,
   "metadata": {},
   "outputs": [],
   "source": [
    "arduino.close()"
   ]
  }
 ],
 "metadata": {
  "kernelspec": {
   "display_name": "Python 3",
   "language": "python",
   "name": "python3"
  },
  "language_info": {
   "codemirror_mode": {
    "name": "ipython",
    "version": 3
   },
   "file_extension": ".py",
   "mimetype": "text/x-python",
   "name": "python",
   "nbconvert_exporter": "python",
   "pygments_lexer": "ipython3",
   "version": "3.7.6"
  }
 },
 "nbformat": 4,
 "nbformat_minor": 4
}
